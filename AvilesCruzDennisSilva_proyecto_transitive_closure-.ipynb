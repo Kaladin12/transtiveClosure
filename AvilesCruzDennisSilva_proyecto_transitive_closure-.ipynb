{
 "cells": [
  {
   "cell_type": "markdown",
   "metadata": {},
   "source": [
    "| Clave de la clase   |     ICC006      |\n",
    "|:----------|:-------------|\n",
    "| **Título del proyecto** |  Transitive closure problem |\n",
    "| **Miembros de equipo** | <ul> <br> <li>T032218 - Elian Javier Cruz Esquivel</li> <br> <li> T032069 - Abner Isangel Silva Godoy</li> <br> <li> T031438 - Ulises Eduardo Aviles Ibarra </li> <br> <li> T026290 - David Dennis Cardenas </li> </ul>|"
   ]
  },
  {
   "cell_type": "markdown",
   "metadata": {},
   "source": [
    "**Project outline :** \n",
    "1. <b><span style=\"color:#B22222\">Descripción del problema.</span></b>\n",
    "2. <b><span style=\"color:#B22222\">Modelo del problema.</span></b>\n",
    "3. <b><span style=\"color:#B22222\">Algoritmo o métricas.</span></b>\n",
    "4. <b><span style=\"color:#B22222\">Análisis asintótico del algoritmo.</span></b>\n",
    "5. <b><span style=\"color:#B22222\">Caracteristicas del conjunto de datos.</span></b>\n",
    "6. <b><span style=\"color:#B22222\">Implementación.</span></b>\n",
    "7. <b><span style=\"color:#B22222\">Resultados, limitaciones del algoritmo y otras heurísticas. </span></b>\n",
    "8. <b><span style=\"color:#B22222\">Referencias.</span></b>"
   ]
  },
  {
   "cell_type": "markdown",
   "metadata": {},
   "source": [
    "# 1. Descripción del problema\n",
    "\n",
    "<p style=\"text-align: justify\"> En la industria aeroespacial existen una gran conjunto de compañías que se dedican a la interconexión de pasajeros de un punto del planeta a otro, esto signififca a su vez que existe una cantidad considerable de formas de viajar, ya sea por el trayecto a utilizar o la aerolínea que se tome para realizarlo, por lo que el comprender el funcionamiento de las dinámicas de interconexión entre las distintas aerolíneas y su relación con los destinos en los que tienen prescencia es de vital importancia para conocer el alcance que una empresa posee en un mercado, así como para permitir a los usuarios (o pasajeros) percibir las posibilidades que poseen para transportarse de un lugar a otro y cuál de todas las opciones disponibles (si existen) es de su preferencia.</p>\n",
    "    <p style=\"text-align: justify\">Es por lo anterior que en este trabajo nos centraremos en analizar una red de viajes aéreos en la que exista una gran cantidad de destinos y aerolíneas para a partir del análisis, cuantificar la cantidad de aerolíneas en los que cada una de los destinos tiene operaciones, así como las rutas aéreas que éstas poseen y la identificación de cúales de ellas permiten a un usuario hipotético dirigirse de una forma más óptima en cuanto al tiempo y costo monetario, hacia una ubicacion a partir un origen determinado, viajando directamente o haciendo escalas.</p>\n"
   ]
  },
  {
   "attachments": {
    "2b2624e0-9aa4-4197-b57d-a5c2298be637.PNG": {
     "image/png": "[encoded data removed]"
    }
   },
   "cell_type": "markdown",
   "metadata": {
    "tags": []
   },
   "source": [
    "# 2. Modelo del problema\n",
    "\n",
    "<p style=\"text-align: justify\">Nos es otorgado un grafo (a partir de los datos en crudo de un dataset) en el cual se encuentran contenidos los destinos y las compañías aéreas que los conectan; denominaremos al conjunto de aerolíneas como $A$ y este grafo como $G=(E, V)$, siendo $G$ igual al conjunto de aristas $E$, y vértices $V$; dado que el planteamiento del problema original no lo especifica, se ha asumido que se trabajará con un grafo dirigido; esto con la finalidad de visualizar las aristas que unen cada uno de los vertices como vuelos de ida o vuelta a lo largo del trayecto, así como las distintas compañías que los operan. </p>\n",
    "<p style=\"text-align: justify\">Si llamamos al nodo (vértice) $i$-ésimo del grafo como $v_i$  (donde $v_i \\in V)$ , tenemos que la cantidad de aristas que llegan a él no determinan completamente la cantidad de destinos con los que se encuentra conectado, ya que como se mencionó en la descripción del problema, puede haber múltiples aerolíneas que conecten dos nodos cualesquiera; a su vez, si llamamos $e_{n_{ij}}$ a la arista que une los vértices $v_i$ y $v_j$ donde la arista ($v_i$, $v_j) \\in E$ y que a su vez pertenece a la aerolínea denominada $n$ (donde $v_n \\in A$ significa que una arista o trayecto pertenece a la aerolínea $n$). Cada arista estará representada por el peso de la misma (su costo) dentro de la matriz de adyacencia (ver imágen) así como las aerolíneas que operan en dicha arista. Para conocer las locaciones que están conectadas por una sola aerolínea, es necesario conocer si existe un camino (path) al que llamaremos $e_{n_{kz}}$ entre el nodo en el que estamos interesados $v_k$ y cualquier otro de los nodos $v_z$ pertenecientes al conjunto de vértices $V$, de esta forma, solo aquellos que posean una arista dirigida hacia ellos serán los que son alcanzables desde el resto del grafo por una sola aerolínea.</p>\n",
    "\n",
    "<p style=\"text-align: justify\">Por las condiciones del problema, es bastante probable que a partir del dataset a trabajar, el garfo resultante posea varios componentes inconexos, es decir, que el grafo en general no sea conexo. Esto no representa necesariamente un problema, sino más bien una característica propia del conjunto de datos y el nivel de participación de las distintas aerolíneas en los distintos nodos.</p>\n",
    "\n",
    "<p style=\"text-align: justify\"> Para conocer los vuelos o rutas más barátos entre dos destinos, es necesario considerar todos los caminos que conecten a ambos, esto significa tomar en cuenta aquellos que no poseen aristas directamente dirigidos entre ellos, pero que transitan por nodos auxiliares como escalas en el trayecto, de esta forma, mediante la suma de los pesos de las aristas por las que pasa el camino, podremos encontrar cuál o cuáles de los caminos son más barátos; para esto es necesario mencionar que la matriz de adyacencia poseerá una indetificador sobre qué aerolineas son las que operan en cada una de las adyacencias.\n",
    "</p>\n",
    "<p style=\"text-align: justify\">\n",
    "Un ejemplo de una matriz de la matriz de adyacencia que esperamos sea proporcionada es la siguiente:</p>\n",
    "\n",
    "![e.PNG](attachment:2b2624e0-9aa4-4197-b57d-a5c2298be637.PNG)\n",
    "\n",
    "<p style=\"text-align:center\">Figura 1: Grafo y Matriz de adyacencias ejemplo. Fuente: Adaptado de [1]</p>\n",
    "<p style=\"text-align: justify\">Gracias a lo descrito anteriormente, podemos incluir el cuestionamiento principal de este proyecto, es decir, el denominado Transitive Closure Problem (inglés para Problema de la Clausura Transitiva), el cual de acuerdo a [ciat cormen] dado un grafo dirigido $G = (V,E)$ como el especificado para el problema a desarrollar en este proyecto, la clausura transitiva de $G$ como el grafo $G^{*} = (V, E^{*})$ donde $E^{*} = \\{ (i,j) :$ existe un camino entre vertices $i$ y $j$ en $G \\}$. Es decir, la clausura transtiva de uj  grafo nos permite conocer si existe un camino que conecte cualquier par de nodos pertenecientes al grafo.</p>\n",
    "<p style=\"text-align: justify\">Utilizando esta definición, la clausura transitiva es aplicable a nuestro grafo en el sentido de que deseamos conocer los vuelos más baratos entre dos nodos, lo que se reduce a los problemas de conocer en primer lugar si existe un camino que los una y cuál de ellos es el de menor costoso de recorrer.</p>\n",
    "\n",
    "\n",
    "\n"
   ]
  },
  {
   "cell_type": "markdown",
   "metadata": {},
   "source": [
    "# 3. Algoritmo o métricas.\n",
    "\n",
    "\n",
    "<p style=\"text-align: justify\">Existen diversas soluciones al problema anteriormente planteado, en el que se tiene un grafo dirigido con aristas pesadas y se busca optimizar la búsqueda del camino menos pesado entre dos vértices. El equipo consideró las siguientes dos posibles soluciones: Dijkstra y Floyd-Warshall, siendo esta última la elegida debido a su capacidad de obtener las distancias mas cortas entre todos los pares de vertices a la vez que nos permite conocer el estado de transitividad de un nodo en especifico, así tambien como su eficiencia en grafos poco dispersos.</p>\n",
    "- <span style=\"text-decoration:underline\">Dijkstra.</span>\n",
    "    <p style=\"text-align: justify\"> El algoritmo consiste en ir explorando todos los caminos menos pesados que parten del vértice origen hacia el resto de los vértices, sin tomar en cuenta cuántos vértices visita en el camino, sino el peso de las aristas por las que pasa. Cuando se obtiene el camino menos pesado desde el vértice origen hasta el resto de los vértices que componen el grafo, el algoritmo se detiene. En cada iteración, el algoritmo explora cada una de las adyacencias de los vértices visitados hasta el momento. El algoritmo sobrescribe el camino de un vértice a otro si durante las iteraciones se descubre otro menos pesado. Cuando ya se hayan explorado todas las adyacencias, el resultado será un arreglo de números donde cada uno de los elementos representa el peso del camino menos pesado del vértice de origen al resto de los vértices respectivamente. [3]\n",
    "</p><br>\n",
    "- <span style=\"text-decoration:underline\">Floyd-Warshall.</span>\n",
    "    <p style=\"text-align: justify\">El algoritmo funciona a través de una matriz cuadrada de tamaño $N$  (donde $ N $ es el número de vértices del grafo) que describe las adyacencias entre los distintos vértices, y se itera $N$ veces sobrescribiéndose a sí misma si encuentra un camino menos pesado entre dos nodos. [2], de acuerdo a [4], este algoritmo considera los vértices intermedios de un camino más corto, donde un $\\textit{vertice intermedio}$ de un camino simple $p=(v_1, v_2, ..., v_l)$ es un vertice de $p$ distinto que $v_1$ o $v_l$, es decir, cualquier vertice en el conjunto $\\{v_2, v_3, ..., v_{l-1}\\}$</p>\n",
    "    <p style=\"text-align: justify\"> Este algortimo se basa en la siguiente idea principal: <br>\n",
    "    Sean los vertices del grafo el conjunto $V=\\{ 1,2, ..., n \\}$, hay que considerar un subconjunto $\\{1, 2, ..., k\\}$ para alguna $k$ tal que para cada par de vertices $i, j \\in V$, todos los caminos de $i$ hacia $j$ cuyos vertices intermedios son tomados de  $\\{1, 2, ..., k\\}$, el camino con el peso minimo entre ellos, denominado $p$ posee la siguiente relación con los caminos mas cortos entre $i$ y $j$ con todos los vertices intermedios en el conjunto  $\\{1, 2, ..., k-1\\}$, dicha relación depende de si $k$ se pertenece o no a los vertices intermedios del camino $p$.</p>\n",
    " <ul>\n",
    "    <li style=\"text-align: justify\">Si $k$ no es un vertice intermedio, entonces todos los vertices intermedios del camino $p$ pertenecen al conjunto $\\{1, 2, ..., k-1\\}$, por lo que el camino mas corto del vertice $i$al vertice $j$ con todos los vertices intermedios en el conjunto $\\{1, 2, ..., k-1\\}$ tambien es el camino mas corto entre ambos vertices con todos los vertices intermedios en el conjunto $\\{1, 2, ..., k\\}$\n",
    "    <li style=\"text-align: justify\">Si $k$ es un vertice intermedio entonces se descompone el camino $p$ en $i \\overset{p_1}{\\rightarrow} k \\overset{p_2}{\\rightarrow} j$. Dado que el vertice $k$ no pertenece a los vertices intermedios del camino $p_1$ , todos los vertices intermedios de $p_1$ pertenecen al conjunto $\\{ 1, 2, ..., k-1 \\}$ por lo que $p_1$ es el camino mas corto entre $i$ y $k$ con todos los vertices en el conjunto dicho. Igualmente, $p_2$ es el camino mas corto entre $k$ y $j$ con todos los vertices intermedios en dicho conjunto.    </ul>\n",
    "\n",
    "Dicho lo anterior, es necesario aclarar que existen distintas formas de implenetar este algorítmo, en nuestro caso utilizaremos un implementación iterativa en la que se utiliza unicamente una matriz de adyacencia (existen implementacioens que utilizan una para cada iteración), dicha implementación está definida como:\n",
    "<p> Sea $d_{ij}$ el peso del camino mas corto entre los vertices $i$ y $j$ para el cual todos los vertices intermedios pertenecen a $\\{1,2,...,k\\}$; cuando $k=0$, el camino entre ambso recorre a lo sumo 1 arista, por lo lo tanto el peso del camino es equivalente al peso de la arista recorrida ($w_{ij}$), es decir $d_{ij}=w_{ij}$ , por el contrario, el peso del camino es equivalente al minimo entre el camino que no contiene a $k$ entre sus vertices intermedios y aquel que si. Así tambien, sea $n_{ij}$ el nodo siguiente  </p>\n",
    "Inicialización de $N$:\n",
    "\\[n_{ij} =\\begin{Bmatrix}\n",
    " j & si\\:\\:  \\exists u_{ij}   \\\\\n",
    " NIL & si \\:\\: \\nexists u_{ij}  \\\\\n",
    "\\end{Bmatrix}\\]\n",
    "Asignación de valores de distancias dentro de la ejecición del algoritmo:\n",
    "\\[ d_{ij} = \\begin{Bmatrix}\n",
    " d_{ij}& si\\:\\: k=0   \\\\\n",
    " min(d_{ij},d_{ik}+d_{kj}) & si \\:\\: k\\geq1  \\\\\n",
    "\\end{Bmatrix}\\]\n",
    "Cuando el mínimo está representado por $d_{ik}+d_{kj}$ , $n_{ij} = n_{ik}$, representado el hecho que se está transtiando por un camino distinto al que une drectamente a ambos nodos $i$ y $j$\n",
    "<p style=\"text-align: justify\">Una forma distinta de explicar las asignaciones de $d_{ij}$ durante la ejecución del algoritmo es estableciendo que el camino mas corto entre dos nodos puede ser el costo de la arista que los une (si la hay) o la suma de las aristas que los conectan indirectamente, de ahí la aplicación del concepto de clausura transitiva.</p>\n",
    "\n",
    "Tomando como ejemplo el pseudocódigo presente en [2], [4] y [5] tenemos:\n",
    "\n",
    "```C\n",
    "procedure floyd_warshall(W)\n",
    "    n = W.rows\n",
    "    D = W /* La matriz resultado es inicializada como la matriz de adjacencia original */\n",
    "    N = Matriz de tamaño |W|/*Matriz que almacenará el siguiente nodo en el camino desde i hacia j para todos los*/\n",
    "                            /* nodos del dataset*/\n",
    "    for k := 1 to n do\n",
    "        for i:= 1 to n do\n",
    "            for j:=1 to no do\n",
    "                if (D[i][j]>D[i][k] + D[k][j])\n",
    "                    D[i][j] D[i][k] + D[k][j]\n",
    "                    N[i][j] = N[i][k]\n",
    "    return D\n",
    "end procedure\n",
    "```"
   ]
  },
  {
   "cell_type": "markdown",
   "metadata": {},
   "source": [
    "# 4. Análisis asintótico del algoritmo\n",
    "\n",
    "<p style=\"text-align: justify\">Dado que ya hemos establecido la utilización de dos matrices a las que hemos llamado por razones de brevedad como $D$ y $M$, las cuales representan la matriz de adjacencia del grafo y los caminos que deberá seguir el mismo una vez terminada la ejecución respectivamente, es claro apreciar que requeriremos de $\\Theta(|V|^2)$ de espacio ya que nuestras matrices son cuadradas.</p>\n",
    "<p style=\"text-align: justify\">A su vez, el análisis asintótico del comportamiento del algoritmo es bastante sencillo: contamos con tres tres ciclos for anidados de los cuales cada uno tiene como rango la cantidad de vértices, por lo que a partir de la definición de un gráfo tenemos que $n=|V|$ tal que </p>\n",
    "\\[ (|V|)(|V|)(|V|) = |V|^3 \\]\n",
    "por lo que tenemos como cuota superior e inferior el cubo de los vértices del gráfo, por lo que decimos que la complejidad asintótica del algoritmo pertenece al conjunto $\\Theta(|V^3|)$\n",
    "\n"
   ]
  },
  {
   "cell_type": "markdown",
   "metadata": {},
   "source": [
    "# 5. Conjunto de datos\n",
    "\n",
    "<h3>Obtención del conjunto</h3>\n",
    "<p style=\"text-align: justify\">El conjunto de datos escogido como base para el análisis del algorítmo fue obtenido a partir de del Bureau of Transportation Statistics [Inglés para Buró de Estadísticas del Transporte] [6] del gobierno de los Estados Unidos, el cual, de acuerdo a la descripción del mismo, contiene datos del mercado internacional reportado tanto por aerolíneas estadounidenses como por extranjeras cuando por lo menos uno de los puntos de servicio de dichas aerolineas se encuentra en los Estados Unidos o en alguno de sus territorios, por lo tanto, el dataset elegido incluye los información relevante a todos aquellos vuelos realizados desde o hacia suelo estadounidense por compañías aéreas nacionales e internacionales   </p>\n",
    "<p style=\"text-align: justify\">Debido a lo anterior, podemos establecer que el conjunto de datos a trabajar es una instancia particular del problema aplicada al espacio aéreo de los Estados Unidos durante el año 2019, lo cual consideramos de gran utilidad puesto que la implementación del algorítmo permitirá modelar no solo una solución a un conjunto de datos determinado, sino a un dataset aplicable una vez que se le ha realizado el tratamiento con los algoritmos a desarrollar.</p>\n",
    "<h3>Descripción del conjunto</h3>\n",
    "El dataset obtenido se encuentra almacenado en un archivo .csv el cual fue descaragdo directamente de la página de la fuente ya mencionada; es necesario aclarar que dicho archivo representaba al conjunto de datos como una tabla en la que cada tupla era un vértice perteneciente al vuelo entre dos aeropuertos, en dicha tabla las columnas representan los siguientes atributos:\n",
    "<ol>\n",
    "    <li>DISTANCE (en millas)</li>\n",
    "    <li>AIRLINE_ID</li>\n",
    "    <li>UNIQUE_CARRIER</li>\n",
    "    <li>UNIQUE_CARRIER_NAME</li>\n",
    "    <li>ORIGIN_AIRPORT_ID</li>    \n",
    "    <li>ORIGIN</li>\n",
    "    <li>DEST_AIRPORT_ID</li>\n",
    "    <li>DEST</li>\n",
    "    <li>MONTH</li> \n",
    "</ol>\n",
    "<h3>Atributos del conjunto</h3>\n",
    "\n",
    "<p style=\"text-align: justify\">En total, el dataset a trabajar contiene 69298 vuelos en su estado original, auque una fracción de estos pertenece a vuelos repetidos debido a que se consideran como distintos por su ocurrencia en fehcas distintas. En nuestro caso consideraremos únicamente uno en caso de que existan repetidos, eliminando la variabilidad de fechas en nuestra implementación. \n",
    "Debido a lo anterior, desarrollamos la siguiente rutina para depurar el dataset original y obtener únicamente un archivo en el que se concentren los distintos vuelos y opciones de aerolineas que existen para cada uno de ellos.</p>\n",
    "\n",
    "<h4>Rutina de depuración</h4>\n",
    "A continuación se presenta el código que permite realizar dos tareas primordiales: traducir el conjuto de csv a json, y eliminar los vertices repetidos (debido a la fecha en que se realizaron) entre aeropuertos:"
   ]
  },
  {
   "cell_type": "code",
   "execution_count": 1,
   "metadata": {},
   "outputs": [],
   "source": [
    "import csv\n",
    "import json  \n",
    "import warnings\n",
    "warnings.filterwarnings('ignore')\n",
    "data={}\n",
    "nodes = {}"
   ]
  },
  {
   "cell_type": "code",
   "execution_count": 2,
   "metadata": {},
   "outputs": [
    {
     "name": "stdout",
     "output_type": "stream",
     "text": [
      "cantidad de nodos:  1163\n",
      "cantidad de vértices 11984\n"
     ]
    }
   ],
   "source": [
    "def readFile():\n",
    "    file = open('224116062_T_T100I_MARKET_ALL_CARRIER.csv','r')\n",
    "    return csv.reader(file)\n",
    "\n",
    "def depurateDataset(dataSet):\n",
    "    index = 0\n",
    "    for i in dataSet:\n",
    "        if (index!=0):\n",
    "            if (i[4] not in nodes):                #agrega el nodo inicial del vértice si no existe en el diccionario y crea un sub-\n",
    "                nodes[i[4]] = {i[6] : {i[1]:i[0]}} #diccionario indicando el nodo final i[6], aerolinea i[1] y weight i[0]\n",
    "            if (i[6] not in nodes):                #sucede lo mismo que en el anterior, pero ahora para el nodo final del vértice\n",
    "                nodes[i[6]] = {i[4] : {i[1]:i[0]} }\n",
    "            if (i[6] not in nodes[i[4]]):          #si no existe el nodo final en las conexiones del nodo inicial, lo agrega\n",
    "                nodes[i[4]][i[6]] = {i[1]:i[0]}\n",
    "            if (i[6] in nodes[i[4]] and i[1] not in nodes[i[4]][i[6]]): #si existe el nodo final en las conexiones del nodo inicial y\n",
    "                nodes[i[4]][i[6]][i[1]] = i[0]                          #la aerolinea no existe la agrega al nodo junto a su weight\n",
    "            if (i[4] not in nodes[i[6]]):          #si no existe el nodo inicial en las conexiones del nodo final, lo agrega\n",
    "                nodes[i[6]][i[4]] = {i[1]:i[0]} \n",
    "            if (i[4] in nodes[i[6]] and i[1] not in nodes[i[6]][i[4]]): #si existe el nodo inicial en las conexiones del nodo final y\n",
    "                nodes[i[6]][i[4]][i[1]] = i[0]                          #la aerolinea no existe la agrega al nodo junto a su weight\n",
    "        index +=1\n",
    "        \n",
    "dataSet = readFile()\n",
    "depurateDataset(dataSet)\n",
    "with open('nodes2.json', 'w') as outfile:\n",
    "    json.dump(nodes,outfile, indent=4)\n",
    "print('cantidad de nodos: ',len(list(nodes.keys()))) #cantidad de llaves = cantidad de nodos\n",
    "print('cantidad de aristas', sum(list( len(list(nodes[edge].keys())) for edge in nodes.keys())))"
   ]
  },
  {
   "cell_type": "markdown",
   "metadata": {},
   "source": [
    "<p>En base a la rutina anterior, el dataset con el que se trabajará posee ahora 1163 nodos y 11984 vertices. </p>\n",
    "<h4>Tratamiento estadístico</h4>\n",
    "A continuación se presentann las rutinas que permitirán estimar las medidas de tendencia central respecto a la cantidad de aristas que posee cada nodo así como la cantidad de aerolíneas que sirven en cada uno de los nodos (los cuales representan un aeropuerto).\n",
    "Al ejecutar las últimas dos celdas de las presentes a continuación, aparecerán en nuevas pestañas las gráficas de barras (histogramas) y diagramas de caja y bigotes para cada una de las medidas que analizaremos: weights (lista de pesos de cada arista), airlinesPerVertex (lista de cantidad de aerolineas por nodo o dicho de otra forma, cuántas aerolineas tienen vuelos desde el vértice dado) y edgesPerVertex (lista con la cantidad de aristas por vertice, es decir, cuántas conexiones tiene un aeropuerto con otros aeropuertos)"
   ]
  },
  {
   "cell_type": "code",
   "execution_count": 3,
   "metadata": {},
   "outputs": [],
   "source": [
    "#inicialización y creación de listas necesarias\n",
    "import pandas as pd\n",
    "import numpy as np\n",
    "from bokeh.plotting import figure, output_file, show\n",
    "from bokeh.layouts import gridplot\n",
    "data = {}\n",
    "with open('nodes2.json', 'r') as outfile:\n",
    "    data = json.load(outfile)\n",
    "edgesPerVertex = []\n",
    "weights = []\n",
    "airlinesPerVertex = []\n",
    "for airport in data.keys():\n",
    "    arilinesTemp = list(list(data[airport][e].keys())[0] for e in list(data[airport].keys()))\n",
    "    g = { lis:True for lis in arilinesTemp }    \n",
    "    airlinesPerVertex.append(len(list(g.keys())))\n",
    "    edgesPerVertex.append(len(list(data[airport].keys())))\n",
    "    for dest in data[airport].keys():\n",
    "        weights.append(int(data[airport][dest][list(data[airport][dest].keys())[0]]))"
   ]
  },
  {
   "cell_type": "code",
   "execution_count": 9,
   "metadata": {},
   "outputs": [],
   "source": [
    "#Permite la creación de un diagrama de caja y bigotes en base a los distintos parámetros amedir del dataset\n",
    "def cajaYBigotes(dataFrame, name, limSup, limInf, yLabel):\n",
    "    atipicos = []\n",
    "    for d in dataFrame[0]:\n",
    "        if (int(d)>limSup[0] or int(d)<limInf[0]):\n",
    "            atipicos.append(d)\n",
    "    atipX = list(0.5 for i in atipicos)\n",
    "    atipY = atipicos\n",
    "\n",
    "    p = figure(tools=\"\", background_fill_color=\"#efefef\", x_range='a', toolbar_location=None)\n",
    "    if (len(atipicos)==0):\n",
    "        limInf = min(dataFrame[0])\n",
    "        limSup = max(dataFrame[0])\n",
    "    elif (True in list(i>0 for i in atipicos)):\n",
    "        limInf = min(dataFrame[0])\n",
    "    p.segment(0.5, limSup, 0.5, q3, line_color=\"black\") \n",
    "    p.segment(0.5, limInf,0.5, q1, line_color=\"black\") \n",
    "\n",
    "    p.vbar(0.5, 0.7, q2, q3, fill_color=\"#E08E79\", line_color=\"black\")\n",
    "    p.vbar(0.5, 0.7, q1, q2, fill_color=\"#3B8686\", line_color=\"black\")\n",
    "\n",
    "    p.rect(0.5, limInf, 0.2, 0.01, line_color=\"black\")\n",
    "    p.rect(0.5, limSup, 0.2, 0.01, line_color=\"black\")\n",
    "\n",
    "    if len(atipicos)!=0:\n",
    "        p.circle(atipX, atipY, size=6, color=\"#F38630\", fill_alpha=0.6)\n",
    "\n",
    "    p.xgrid.grid_line_color = None\n",
    "    p.ygrid.grid_line_color = \"white\"\n",
    "    p.grid.grid_line_width = 2\n",
    "    p.yaxis.axis_label = yLabel\n",
    "    p.xaxis.major_label_text_font_size=\"16px\"\n",
    "    output_file(\"boxplot{}.html\".format(name), title=\"cajaYBigotes{}\".format(name))\n",
    "    return p\n"
   ]
  },
  {
   "cell_type": "code",
   "execution_count": 10,
   "metadata": {},
   "outputs": [],
   "source": [
    "def barras(title, hist, edges, xLabel, yLabel):\n",
    "    p = figure(title=title, tools='', background_fill_color=\"#fafafa\")\n",
    "    p.quad(top=hist, bottom=0, left=edges[:-1], right=edges[1:],\n",
    "           fill_color=\"navy\", line_color=\"white\", alpha=0.5)\n",
    "    p.y_range.start = 0\n",
    "    p.legend.location = \"center_right\"\n",
    "    p.legend.background_fill_color = \"#fefefe\"\n",
    "    p.xaxis.axis_label = xLabel\n",
    "    p.yaxis.axis_label = yLabel\n",
    "    p.grid.grid_line_color=\"white\"\n",
    "    output_file(\"barras{}.html\".format(title), title=\"{}\".format(title))\n",
    "    return p"
   ]
  },
  {
   "cell_type": "code",
   "execution_count": 12,
   "metadata": {},
   "outputs": [
    {
     "name": "stdout",
     "output_type": "stream",
     "text": [
      "Moda para AristasPorNodo: 1\n",
      "Media para AristasPorNodo: 10.304385210662081\n",
      "Mediana para AristasPorNodo: 3.0\n",
      "Desviación estandar para AristasPorNodo 20.852821014543117\n",
      "Moda para Distancia en millas: 1507\n",
      "Media para Distancia en millas: 2964.1073097463286\n",
      "Mediana para Distancia en millas: 2200.5\n",
      "Desviación estandar para Distancia en millas 2193.0887251518575\n",
      "Moda para AerolineasPorNodo: 1\n",
      "Media para AerolineasPorNodo: 4.251074806534824\n",
      "Mediana para AerolineasPorNodo: 2.0\n",
      "Desviación estandar para AerolineasPorNodo 6.807450494458365\n"
     ]
    }
   ],
   "source": [
    "#en esta celda se realiza el análisis estadístico de los parámetros almacenados dentro del diccionario homonimo\n",
    "parameters = {'AristasPorNodo':edgesPerVertex,'Distancia en millas': weights, 'AerolineasPorNodo': airlinesPerVertex}\n",
    "for par in parameters.keys():\n",
    "    dataFrame = pd.DataFrame(parameters[par])\n",
    "    print('Moda para {}:'.format(par), dataFrame.mode()[0][0])\n",
    "    print('Media para {}:'.format(par),dataFrame.mean()[0])\n",
    "    print('Mediana para {}:'.format(par),dataFrame.median()[0])\n",
    "    q1 = dataFrame.quantile(0.25)\n",
    "    q2 = dataFrame.quantile(0.5)\n",
    "    q3 = dataFrame.quantile(0.75)\n",
    "    iqr = q3-q1\n",
    "    limSup = q3 + 1.5*iqr\n",
    "    limInf = q1 - 1.5*iqr\n",
    "    sDev = dataFrame.std(skipna = True)\n",
    "    print('Desviación estandar para {}'.format(par), sDev[0])\n",
    "    show(cajaYBigotes(dataFrame, par, limSup, limInf, '{}'.format(par)))\n",
    "    hist, edges = np.histogram(parameters[par], bins=10)"
   ]
  },
  {
   "cell_type": "code",
   "execution_count": 13,
   "metadata": {},
   "outputs": [],
   "source": [
    "#instanciación y llamado a creación de gráficas de barras para cada uno de los parámetros a considerar.\n",
    "hist, edges = np.histogram(weights, bins=15)\n",
    "p1 = barras(\"Histograma sobre las distancias (longitud o weight) por arista del grafo G\", hist, edges, 'Distancia en millas', 'Cantidad de aristas')\n",
    "show(p1)\n",
    "hist, edges = np.histogram(edgesPerVertex, bins=10)\n",
    "p1 = barras(\"Histograma sobre cantidad de aristas (conexiones) por aeropuerto del grafo G\", hist, edges, 'Cantidad de aristas', 'Cantidad de vertices')\n",
    "show(p1)\n",
    "hist, edges = np.histogram(airlinesPerVertex, bins=10)\n",
    "p1 = barras(\"Histograma sobre cantidad de aerolineas (opciones para viajar) por aeropuerto del grafo G\", hist, edges, 'Aerolineas por vertice', 'Cantidad de vertices')\n",
    "show(p1)"
   ]
  },
  {
   "cell_type": "markdown",
   "metadata": {},
   "source": [
    "<div style=\"text-align: justify\">\n",
    "    En base a los gráficos y cálculos realizados anteriormente podemos llegar a las siguientes conclusiones:\n",
    "    <ul>\n",
    "        <li>La mayor parte de los nodos tienen una sola arista, es decir, solamente tiene conexion con otro aeropuerto dentro del dataset, mientras que en promedio, cada uno de ellos posee alrdedor de 10 conexiones, lo que nos da información acerda de los nodos que poseen mas de una sola conexión: poseen bastantes de ellas. </li>\n",
    "        <li>La desviación estandar de $\\approx$10.85 mayor que la media nos dice que el grado de dispersión es moderado, cuestión por la cual en el diagrama de caja y bigotes generado [ver Histograma sobre cantidad de aristas (conexiones) por aeropuerto del grafo G ], existe una cantidad considerable de valores atípicos que se salen del rango intercuartil. </li>\n",
    "        <li>En cuanto a las distancias o pesos de las aristas, podemos ver que si bien su distribución no es uniforme ni normal, presenta crestas en las regiones cercanas a las 1000 y las 4000 millas, esto sustenta la obtención de medidas de tendencia central que se encuentran dentro de este intervalo; así tambien, aunando la información presentada en el respectivo diagrama de caja y bigotes [ver cajaYBigotesDistancias] podemos ver que las distancias excesivamente grandes son la excepción debido a su consideración como atípicos y su escaza aparición en el mismo diagrama.</li> \n",
    "    <li>Por último, podemos ver que la cantidad de aerolineas por nodo presenta una moda muy baja (de 1), así como una media de $\\approx$4.25 y una desviación estandar de $\\approx$6.8, lo que nos dice que la proporción de aeropuertos que tienen una gran cantidad de aerolineas que operan en ellos es bastante baja, por lo que dentro del diagrama de caja y bigotes, dichos  valores aproximadamente superiores a 10 son considerados como atípicos.</li>\n",
    "    </ul>\n",
    "</div>"
   ]
  },
  {
   "cell_type": "markdown",
   "metadata": {},
   "source": [
    "# 6. Implementación\n",
    "\n"
   ]
  },
  {
   "cell_type": "markdown",
   "metadata": {},
   "source": [
    "<p style=\"text-align: justify\">En esta sección desarrollaremos la implementación del algoritmo elegido haciendo enfasis en el detallamiento de lo que sucede en cada celda ya sea mediante comentarios o celdas de texto. Es necesario aclarar que el archivo de entrada que se utilizará (llamado 'nodes2.json') se incluye junto a este notebook, y que los archivos residuales del tratamiento del dataset serán almacenados una vez concluida la ejecución para que los resultados de la misma puedan ser replicados y comparados; todos ellos se almacenarán en el directorio raíz del localhost de su environment. </p>\n",
    "<p style=\"text-align: justify\">El módulo de implementación se ha fragmentado en varias celdas para permitir un mejor conocimiento del estado de ejecución de la implementación en general.\n",
    "Al final se presenta una celda mediante la cual se pueden realizar consultas concernientes a la ruta que se debe de tomar para transitar entre determinado par de aeropuertos, en dicha celda se muestra un ejemplo entre los comentarios.</p>\n",
    "\n",
    "<h3>Referencia para tiempo de ejecución</h3>\n",
    "<p>Debido a la naturaleza del problema y las características del algorimo, el tiempo de ejecución del siguiente código (sobre todo la llamada y ejecución de la función floydWarshall) es considerablemente largo, de aproximadamente 15 minutos en base a la computadora utilizada para las pruebas del mismo."
   ]
  },
  {
   "cell_type": "code",
   "execution_count": 14,
   "metadata": {},
   "outputs": [],
   "source": [
    "#librerias y dependencias utilizadas\n",
    "import warnings\n",
    "warnings.filterwarnings('ignore')\n",
    "import networkx as nx                   \n",
    "import matplotlib.pyplot as plt         \n",
    "import numpy as np\n",
    "import json\n",
    "import math\n",
    "from operator import itemgetter"
   ]
  },
  {
   "cell_type": "code",
   "execution_count": 15,
   "metadata": {
    "scrolled": true
   },
   "outputs": [],
   "source": [
    "#modulo de entrada de datos e instanciación de variables a utilizar\n",
    "g = nx.DiGraph() #establecemos el grafo como dirigido\n",
    "data = []\n",
    "order = nx.DiGraph()\n",
    "with open('nodes2.json', 'r') as outfile: #nodes2.json es el archivo generado a partir de la depuración del dataset original\n",
    "    data = json.load(outfile)\n",
    "outfile.close()\n",
    "airCarriersList = []\n",
    "listOfAir = {}\n",
    "i =0"
   ]
  },
  {
   "cell_type": "code",
   "execution_count": 16,
   "metadata": {},
   "outputs": [
    {
     "name": "stdout",
     "output_type": "stream",
     "text": [
      "Número de aristas: 11984\n",
      "Número de vértices: 1163\n"
     ]
    }
   ],
   "source": [
    "#primera modulo de implementación:\n",
    "#modulo de almacenamiento de los datos del dataset crudo dentro del grafo a utilizar.\n",
    "for airport in data:             #recorremos cada nodo en el archivo\n",
    "    g.add_node(str(airport))     #lo agregamos al grafo\n",
    "    order.add_node(str(airport)) #lo agregamos al grafo para el orden de los caminos\n",
    "    listOfAir[str(airport)] = [int(i)] #guradamos la relacion entre el id del nodo y su futura ubicación en la matriz de \n",
    "    i+=1                               #adyacencia\n",
    "for airport in data: #recorremos los nodos:\n",
    "    for connection in data[airport]:  #recorremos cada nodo con el que tiene conexión\n",
    "        for airline in data[airport][connection]: \n",
    "            airCarriers = list(map(itemgetter(0), data[airport][connection].items()))  #obtenemos las aerolineas que participan en cada arista\n",
    "            g.add_edge(str(airport),str(connection),  weight=int(data[airport][connection][airline]), airlines=airCarriers)#añadimos el vertice entre el aeropuerto y la conexion con el peso de la misma\n",
    "            order.add_edge(str(airport),str(connection), weight = listOfAir[str(connection)][0]) \n",
    "            break #ver descripción bajo la celda\n",
    "number = g.number_of_nodes()\n",
    "matrix = nx.to_numpy_matrix(g) #matriz de adyacencias\n",
    "nextM = nx.to_numpy_matrix(order) #asignamos el grafo correspondiente al orden de los caminos con nextM (N en la definición del algortimo y métricas)\n",
    "for i in range(number):   #Iteramos sobre el numero de nodos\n",
    "    for j in range(number):\n",
    "        if (matrix.item(i,j)==0 and i!=j): \n",
    "            nextM.itemset((i,j), None)#asignamos NIL e infinito si el valor en la matriz es cero y los indices no son iguales\n",
    "            matrix.itemset((i,j), math.inf)#ya que estos elementos no representan aristas del grafo original\n",
    "with open('listOf.json', 'w') as outfile: #guardamos la correspondencia entre el indice en la matriz de adyacencia y el nombre del aeropuerto (nodo)\n",
    "    json.dump(listOfAir, outfile, indent=2)\n",
    "outfile.close()\n",
    "print('Número de aristas:', g.number_of_edges())\n",
    "print('Número de vértices:', g.number_of_nodes())\n",
    "\n",
    "\n",
    "#Las siguientes lineas permiten realizar un plot del grafo, sin embargo, por el tamaño del mismo, ser recomienda no descomen-\n",
    "#tarlo a menos que se desee, ya que tarda bastante su ejecición.\n",
    "#fig, ax = plt.subplots(1, 1, figsize=(120, 100))\n",
    "#nx.draw_networkx(g, ax=ax, node_size=16,\n",
    "#                 font_size=6, alpha=.5,\n",
    "#                 width=2)\n",
    "#ax.set_axis_off()"
   ]
  },
  {
   "cell_type": "markdown",
   "metadata": {},
   "source": [
    "Dado que todas las aerolineas que conectan un par de nodos cualquiera tienen la misma distancia sin importar la fecha en que se realice el vuelo, se aplica el break para no iterar sobre información no útil."
   ]
  },
  {
   "cell_type": "code",
   "execution_count": 17,
   "metadata": {},
   "outputs": [
    {
     "name": "stdout",
     "output_type": "stream",
     "text": [
      "0 50 100 150 200 250 300 350 400 450 500 550 600 650 700 750 800 850 900 950 1000 1050 1100 1150 "
     ]
    }
   ],
   "source": [
    "#modulo de implementación principal\n",
    "def floydWarshall():\n",
    "    current = 0\n",
    "    for k in range(number):\n",
    "        for i in range(number):\n",
    "            for j in range(number):\n",
    "                if (matrix.item(i,j)>matrix.item(i,k)+matrix.item(k,j)): #equivalente a utilizar el operador min()\n",
    "                    matrix.itemset((i,j),matrix.item(i,k)+matrix.item(k,j)) \n",
    "                    nextM.itemset((i,j), nextM.item(i,k))\n",
    "    #se imprime la cantidad de iteraciones del for principal (primero en ejecutarse) cada vez que este es un múltiplo de 50,\n",
    "    #esto para tener un mejor rastreo del estado de ejecución del mismo, en total habrá 1163 ciclos para el for principal.\n",
    "    #por lo que se imprimirán los múltiplos de 50 desde el 0, 50, 100 ... hasta el 1150.\n",
    "        if (current%50 == 0):\n",
    "            print(current, end = \" \")\n",
    "        current+=1        \n",
    "floydWarshall() #llamada de la función"
   ]
  },
  {
   "cell_type": "code",
   "execution_count": 18,
   "metadata": {},
   "outputs": [],
   "source": [
    "#Modulo de tratamiento post-implementación.\n",
    "#Se almacenan los resultados en sus correspondientes archivos\n",
    "di = {}\n",
    "#el siguiente ciclo for tiene como finalidad convertir la matriz de adyacencia a un diccionario para ser almacenado como json\n",
    "for i in g.nodes(): \n",
    "    di[i] = {}\n",
    "    for j in g.nodes():\n",
    "        di[i][j] = {'weight':matrix.item(listOfAir[i][0],listOfAir[j][0])}\n",
    "        if (i,j) in g.edges():\n",
    "            di[i][j]['airlines'] = g[i][j]['airlines']\n",
    "with open('matrix.json', 'w') as outfile: #archivo de destino para la matriz resultante\n",
    "    json.dump(di, outfile, indent=2)\n",
    "outfile.close()\n",
    "newMatr = di\n",
    "di = {}\n",
    "#hacemos lo mismo pero ahora para la matriz que indica el orden de seguimiento de los nodos para los caminos (paths)\n",
    "for i in range(number):\n",
    "    di[str(i)] = {}\n",
    "    for j in range(number):\n",
    "        di[str(i)][str(j)] = nextM.item((i,j))\n",
    "with open('nextM.json', 'w') as outfile:\n",
    "    json.dump(di, outfile, indent=2)\n",
    "outfile.close()"
   ]
  },
  {
   "cell_type": "code",
   "execution_count": 22,
   "metadata": {},
   "outputs": [],
   "source": [
    "#esta función permite la visualización de los resultados\n",
    "#permite conocer el camino mas corto entre dos nodos (si existe), la distancia parcial en cada uno de los nodos de transicióm\n",
    "#o escalas y las aerolineas que se pueden utilizar.\n",
    "def pathBuilder(u, v, nextM):\n",
    "    if (nextM.item(u,v) == None):\n",
    "        return 'No existe un camino'\n",
    "    path = [u]\n",
    "    weights = [newMatr[list(listOfAir.keys())[u]][list(listOfAir.keys())[u]]['weight']]\n",
    "    airlinesPerEdge = []\n",
    "    u = int(u)\n",
    "    u_init = u\n",
    "    u_temp = u\n",
    "    v = int(v)\n",
    "    while (u != v):\n",
    "        u = int(nextM.item(u,v))\n",
    "        path.append(u)\n",
    "        weights.append(newMatr[list(listOfAir.keys())[u_init]][list(listOfAir.keys())[u]]['weight'])\n",
    "        airlinesPerEdge.append(newMatr[list(listOfAir.keys())[u_temp]][list(listOfAir.keys())[u]]['airlines'])\n",
    "        u_temp=u\n",
    "    n = len(path)\n",
    "    for i in range(n-1):\n",
    "        print(path[i],'('+str(weights[i])+'), aerolineas:', airlinesPerEdge[i] , end=\"\\n\")\n",
    "    print (path[n - 1],'('+ str(weights[n-1])+')')"
   ]
  },
  {
   "cell_type": "code",
   "execution_count": 23,
   "metadata": {},
   "outputs": [
    {
     "name": "stdout",
     "output_type": "stream",
     "text": [
      "1020 (0.0), aerolineas: ['21487']\n",
      "344 (5794.0), aerolineas: ['20398', '20151', '20007']\n",
      "78 (6318.0), aerolineas: ['20166', '20372', '20447']\n",
      "653 (8008.0)\n"
     ]
    }
   ],
   "source": [
    "#Modulo para visualizar resultados\n",
    "#Ejemplo de llamado:   \n",
    "#la función utiliza el nodo de partida, nodo destino y la matriz de orden para caminos (nextM)\n",
    "pathBuilder(1020, 653, nextM)\n",
    "\n",
    "#NOTA: Se puede conocer el id del aeropuesrto número al que se está referenciando con un número al consultar el archivo\n",
    "#listOf.json generado anteriormente, la llave es el id del aeropuerto y el valor al que mapea es su equivalente en la \n",
    "#matriz de adyacencia. E.G. el nodo 0 de la matriz es equivalente a utilizar el aeropuerto '14477'\n",
    "\n",
    "#NOTA 2: Falta limitar la cantidad de aerolineas que se muestran."
   ]
  },
  {
   "cell_type": "markdown",
   "metadata": {},
   "source": [
    "# 7. Resultados, limitaciones del algoritmo y otras heurísticas.\n"
   ]
  },
  {
   "cell_type": "markdown",
   "metadata": {},
   "source": [
    "# 8. Referecias.\n",
    "\n",
    "\n",
    "[1]\t\"Graph Representation\". 2021. [Online]. Available at: <https://www.javatpoint.com/graph-representation>. [Accessed 05-Mar-2021].<br>\n",
    "[2] A. Chumbley, K. Moore, J. Yang, E. Ross, and J. Khim, “Floyd-Warshall Algorithm |\n",
    "Brilliant Math & Science Wiki,” BRILLIANT. https://brilliant.org/wiki/floyd-warshallalgorithm/ [accessed Mar. 04, 2021].<br>\n",
    "[3] T. Abiy, H. Pang, C. Williams, J. Khim, and E. Ross, “Dijkstra’s Shortest Path\n",
    "Algorithm | Brilliant Math & Science Wiki,” BRILLIANT.\n",
    "https://brilliant.org/wiki/dijkstras-short-path-finder/ [accessed Mar. 04, 2021].<br>\n",
    "[4] T. Cormen, C. Leiserson, R. Rivest and C. Stein, Introduction to algorithms, 3rd ed. Cambridge (Inglaterra): Mit Press, 2009, pp. 693-699.<br>\n",
    "[5] A. Aini and A. Salehipour, \"Speeding up the Floyd–Warshall algorithm for the cycled shortest path problem\", Applied Mathematics Letters, vol. 25, no. 1, pp. 1-5, 2012. Available: https://www.sciencedirect.com/science/article/pii/S0893965911002928. [Accessed 4 April 2021].<br>\n",
    "[6] United Staes Bureau of Transportation Statistics, 'T-100 International Market (All Carriers)', 2020. https://www.transtats.bts.gov/Fields.asp?gnoyr_VQ=FJD\n"
   ]
  }
 ],
 "metadata": {
  "anaconda-cloud": {},
  "kernelspec": {
   "display_name": "Python 3",
   "language": "python",
   "name": "python3"
  },
  "language_info": {
   "codemirror_mode": {
    "name": "ipython",
    "version": 3
   },
   "file_extension": ".py",
   "mimetype": "text/x-python",
   "name": "python",
   "nbconvert_exporter": "python",
   "pygments_lexer": "ipython3",
   "version": "3.8.5"
  }
 },
 "nbformat": 4,
 "nbformat_minor": 4
}
